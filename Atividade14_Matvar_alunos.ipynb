{
 "cells": [
  {
   "cell_type": "markdown",
   "metadata": {},
   "source": [
    "# ** Insper - Modelagem e Simulação do Mundo Físico**\n",
    "\n",
    "**Atividade de Implementação em Python - Encontro 14**\n",
    "\n",
    "**Sistemas de Equações Diferenciais**\n",
    "\n",
    "A cintilografia é um exame diagnóstico que avalia a função e a forma dos órgãos por meio da injeção de pequena quantidade de uma substância radioativa chamada radiofármaco. Essa substância emite radiações para as câmeras e computadores, que são transformadas em imagens coloridas, permitindo calcular a concentração e a velocidade de difusão da substância em diferentes partes do corpo.\n",
    "Na cintilografia da tireoide, utiliza-se o I-131, um isótopo radioativo do iodo. Faz-se a aplicação intravenosa de certa quantidade, medida em $\\mu Ci$, de iodeto de sódio radioativo (NaI). O $\\mu Ci$ (micro Curie) é  uma unidade de medida de radioatividade. \n",
    "A partir daí, a concentração de NaI é monitorada no sangue, na tireoide e no resto do corpo. Sabe-se que parte da substância inicialmente presente no sangue é absorvida pela tireoide, sendo o restante eliminado pela urina. O NaI da tireoide passa, então, para o resto do corpo, de onde é eliminado pelas fezes ou devolvido ao sangue. Dessa forma, a modelagem do processo de cintilografia da tireoide pode ser feita considerando-se três compartimentos: sangue, tireoide e resto do corpo. \n",
    "Para simplificar a modelagem matemática, porém, vamos considerar apenas dois compartimentos, o sangue e a tireoide. Com isso, temos o seguinte diagrama de estoques e fluxos, em que todas as constantes indicadas são dadas em $dia^{-1}$.\n",
    "\n",
    "\n",
    "<img src=\"Modelo.png\", width=600, height=500, align=\"left\">"
   ]
  },
  {
   "cell_type": "markdown",
   "metadata": {},
   "source": [
    "**Item 1 - ** Implemente o modelo em Python para resolvê-lo numéricamente, e plote a sua solução. Para isso, sugerimos os seguintes passos:\n",
    "\n",
    "- Escreva em um papel as equações diferenciais do modelo.\n",
    "\n",
    "- Escreva em um papel as equações a diferenças que aproximam a solução das equações diferenciais.\n",
    "\n",
    "- Implemente uma função CalculaDelta que receba os valores de S e T, e retorna a variação deltaS e deltaT.\n",
    "\n",
    "- Utilize como condições inciais do problema: $S(0)=1 \\space \\space \\mu Ci/dL$ e $T(0)=0 \\space \\space \\mu Ci/dL$.\n",
    "\n",
    "- Plote um gráfico das concentrações de NaI no sangue e na tireóide em função do tempo - elas são seu resultado!"
   ]
  },
  {
   "cell_type": "code",
   "execution_count": null,
   "metadata": {
    "collapsed": true
   },
   "outputs": [],
   "source": [
    "#Implemente aqui sua função CalculaDelta\n",
    "\n",
    "\n",
    "\n",
    "\n",
    "\n"
   ]
  },
  {
   "cell_type": "code",
   "execution_count": null,
   "metadata": {},
   "outputs": [],
   "source": [
    "# Escreva aqui a implementação do seu código\n",
    "import matplotlib.pyplot as plt\n",
    "import numpy as np\n",
    "from math import *\n",
    "\n",
    "\n",
    "\n",
    "\n",
    "\n",
    "\n"
   ]
  },
  {
   "cell_type": "markdown",
   "metadata": {},
   "source": [
    "**Item 2 - ** Vamos agora implementar duas funções: S(t) e T(t), de tal forma que:\n",
    "\n",
    "$S(t)=\\frac{27}{28}\\cdot e^{(-3,1\\cdot t)}+\\frac{1}{28}\\cdot e^{(-0,3\\cdot t)}$\n",
    "\n",
    "$T(t)=-\\frac{10}{28}\\cdot e^{(-3,1\\cdot t)}+\\frac{10}{28}\\cdot e^{(-0,3\\cdot t)}$\n",
    "\n",
    "Para a implementação, crie duas listas que possam receber todos os elementos de S(t) e T(t) para a mesma lista de tempo usada no item 1. Plote os resultados e compare com o que você obteve por meio do método de Euler. São iguais? "
   ]
  },
  {
   "cell_type": "code",
   "execution_count": null,
   "metadata": {},
   "outputs": [],
   "source": [
    "#Implemente aqui seu código para plotar as funções dadas\n",
    "\n",
    "\n",
    "\n",
    "\n",
    "\n"
   ]
  },
  {
   "cell_type": "markdown",
   "metadata": {},
   "source": [
    "Notou que as duas expressões acima são as soluções das equações diferenciais do nosso modelo? Como chegar nessas soluções algébricas é o que você vai aprender em Matemática da Variação! Retomaremos esse mesmo modelo lá! Aguarde...\n",
    "\n",
    "**Item 3 - ** Podemos reescrever as equações diferenciais do nosso sistema na forma matricial. Confira se a multiplicação das matrizes abaixo confere com as equações diferenciais que você descreveu no item 1:\n",
    "\n",
    "$\\begin{bmatrix}\n",
    "    \\frac{dS}{dt}\\\\\n",
    "    \\frac{dT}{dt}    \n",
    "\\end{bmatrix}\n",
    "=\n",
    "\\begin{bmatrix}\n",
    "    -3 & 0,27\\\\\n",
    "    1 & -0,4\n",
    "\\end{bmatrix}\n",
    "\\cdot\n",
    "\\begin{bmatrix}\n",
    "    S\\\\\n",
    "    T    \n",
    "\\end{bmatrix}$\n",
    "\n",
    "Na equação matricial acima, temos uma matriz 2x2 que relaciona as derivadas de S e de T com as próprias variáveis S e T. No código abaixo, estamos declarando essa matriz numa estrutura de dados do Python denominada \"matrix\". A partir daí, executamos uma linha de código que resulta em dois valores. Note que esses valores são exatamente os fatores multiplicativos nos expoentes das soluções do item 2. Esses são os famosos autovalores da matriz $\\begin{bmatrix} -3 & 0,27\\\\1 & -0,4 \\end{bmatrix}$\n",
    "\n",
    "O que são autovalores? Bom, isso você vai aprender em MatVar! Mantenha-se curioso até lá!"
   ]
  },
  {
   "cell_type": "code",
   "execution_count": null,
   "metadata": {},
   "outputs": [],
   "source": [
    "#vamos importar os módulos necessários\n",
    "from numpy import linalg\n",
    "from numpy import matrix\n",
    "\n",
    "#vamos iniciar a matriz A\n",
    "A=matrix([[-3,0.27],[1,-0.4]])\n",
    "print(\"Nossa matriz é:\\n\", A)\n",
    "\n",
    "#vamos calcular e imprimir seus autovalores\n",
    "autovalores=linalg.eig(A)[0]\n",
    "print(\"Os autovalores da matriz são: \", (autovalores)[0],  \"e\", (autovalores)[1])"
   ]
  }
 ],
 "metadata": {
  "kernelspec": {
   "display_name": "Python 3",
   "language": "python",
   "name": "python3"
  },
  "language_info": {
   "codemirror_mode": {
    "name": "ipython",
    "version": 3
   },
   "file_extension": ".py",
   "mimetype": "text/x-python",
   "name": "python",
   "nbconvert_exporter": "python",
   "pygments_lexer": "ipython3",
   "version": "3.6.3"
  }
 },
 "nbformat": 4,
 "nbformat_minor": 1
}
